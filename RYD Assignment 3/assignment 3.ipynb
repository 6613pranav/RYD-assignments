{
 "cells": [
  {
   "cell_type": "markdown",
   "metadata": {},
   "source": [
    "## Checking if question is with answer or not  and checking year is present or not\n",
    "  * After going through almost all books given,\n",
    "  * I figured out that if between two question starting from (num). to (num+1). if there is anytng else its the answer\n",
    "  \n",
    "  Note : I will take few examples to show the same \n"
   ]
  },
  {
   "cell_type": "markdown",
   "metadata": {},
   "source": [
    "## Below example we have answer with the question\n",
    "\n",
    "  * we will print the file to check a common pattern"
   ]
  },
  {
   "cell_type": "markdown",
   "metadata": {},
   "source": [
    "## Example 1\n",
    "  * single line question with answer"
   ]
  },
  {
   "cell_type": "code",
   "execution_count": 64,
   "metadata": {},
   "outputs": [
    {
     "name": "stdout",
     "output_type": "stream",
     "text": [
      "1. Jurisdiction of which high courts covers the Union Territory of Lakshadweep? –Kerala HC \n",
      "2. The Indian Parliament passed the States Reorganization Act in which year? –1956 \n",
      "3. Which case determined that the Preamble is a part of the constitution? –Keshvananda Bharti Cas\n"
     ]
    }
   ],
   "source": [
    "str1='1. Jurisdiction of which high courts covers the Union Territory of Lakshadweep? –Kerala HC 2. The Indian Parliament passed the States Reorganization Act in which year? –1956 3. Which case determined that the Preamble is a part of the constitution? –Keshvananda Bharti Case'\n",
    "for i in range(3):\n",
    "    start_index=str1.find(str(i+1)+'.')\n",
    "    end_index=str1.find(str(i+2)+'.')\n",
    "    print(str1[start_index:end_index])"
   ]
  },
  {
   "cell_type": "markdown",
   "metadata": {},
   "source": [
    "## for this file the common pattern is every answer starts with - sign"
   ]
  },
  {
   "cell_type": "code",
   "execution_count": 65,
   "metadata": {},
   "outputs": [],
   "source": [
    "li_ques=[]\n",
    "li_ans=[]\n",
    "for i in range(3):\n",
    "    #-----------------------------for question------------------------------#\n",
    "    stq=str1.find(str(i+1)+'.')\n",
    "    enq=str1.find('?',stq)\n",
    "    li_ques.append([str1[stq:enq]+'?'])\n",
    "    #---------------------------for answer---------------------------------#\n",
    "    sta=str1.find('–',enq)\n",
    "    ena=str1.find(str(i+2),sta)\n",
    "    li_ans.append([(str1[sta:ena])])"
   ]
  },
  {
   "cell_type": "code",
   "execution_count": 66,
   "metadata": {},
   "outputs": [
    {
     "data": {
      "text/plain": [
       "[['1. Jurisdiction of which high courts covers the Union Territory of Lakshadweep?'],\n",
       " ['2. The Indian Parliament passed the States Reorganization Act in which year?'],\n",
       " ['3. Which case determined that the Preamble is a part of the constitution?']]"
      ]
     },
     "execution_count": 66,
     "metadata": {},
     "output_type": "execute_result"
    }
   ],
   "source": [
    "li_ques"
   ]
  },
  {
   "cell_type": "code",
   "execution_count": 67,
   "metadata": {},
   "outputs": [
    {
     "data": {
      "text/plain": [
       "[['–Kerala HC '], ['–1956 '], ['–Keshvananda Bharti Cas']]"
      ]
     },
     "execution_count": 67,
     "metadata": {},
     "output_type": "execute_result"
    }
   ],
   "source": [
    "li_ans"
   ]
  },
  {
   "cell_type": "markdown",
   "metadata": {},
   "source": [
    "## As you can see that answer and the question are in diff lists\n",
    "  \n",
    "   ### We wil examine the same for other type of question"
   ]
  },
  {
   "cell_type": "markdown",
   "metadata": {},
   "source": [
    "## Example 2\n",
    "  * mcq question without answer"
   ]
  },
  {
   "cell_type": "code",
   "execution_count": 68,
   "metadata": {},
   "outputs": [],
   "source": [
    "f=open('ryd_assign3.txt',encoding=\"utf8\") #,\n",
    "\n",
    "s=f.read()"
   ]
  },
  {
   "cell_type": "code",
   "execution_count": 69,
   "metadata": {},
   "outputs": [
    {
     "data": {
      "text/plain": [
       "'1. The colour of the star is an indication of its\\n(a) Distance from the earth\\n(b) Distance from the sun\\n(c) Temperature\\n(d) Luminosity\\n2. The planet nearest to the sun is\\n(a) Mercury\\n(b) Earth\\n(c) Venus\\n(d) Pluto\\n3. The group of stars arranged in a definite pattern is called\\n(a) Milky way\\n(b) Constellation\\n(c) Andromeda\\n(d) Solar system\\n4. The Asteroid belt is found between which of the following?\\n(a) Earth and Mars\\n(b) Jupiter and Saturn\\n(c) Mars and Jupiter\\n(d) Saturn and Uranus\\n5. Which one of the following is the largest satellite in solar system?\\n(a) Ganymede\\n(b) Titan\\n(c) Europa\\n(d) Triton\\n6. Which planet takes the longest time to go around the sun?\\n(a) Earth\\n(b) Jupiter\\n(c) Uranus\\n(d) Neptune\\n7. The planet which is called twin sister of the Earth is\\n(a) Mercury\\n(b) Venus\\n(c) Mars\\n(d) Uranus'"
      ]
     },
     "execution_count": 69,
     "metadata": {},
     "output_type": "execute_result"
    }
   ],
   "source": [
    "s"
   ]
  },
  {
   "cell_type": "code",
   "execution_count": 70,
   "metadata": {},
   "outputs": [
    {
     "name": "stdout",
     "output_type": "stream",
     "text": [
      "['1. The colour of the star is an indication of its', '(a) Distance from the earth', '(b) Distance from the sun', '(c) Temperature', '(d) Luminosity', '']\n",
      "['2. The planet nearest to the sun is', '(a) Mercury', '(b) Earth', '(c) Venus', '(d) Pluto', '']\n",
      "['3. The group of stars arranged in a definite pattern is called', '(a) Milky way', '(b) Constellation', '(c) Andromeda', '(d) Solar system', '']\n",
      "['4. The Asteroid belt is found between which of the following?', '(a) Earth and Mars', '(b) Jupiter and Saturn', '(c) Mars and Jupiter', '(d) Saturn and Uranus', '']\n",
      "['5. Which one of the following is the largest satellite in solar system?', '(a) Ganymede', '(b) Titan', '(c) Europa', '(d) Triton', '']\n",
      "['6. Which planet takes the longest time to go around the sun?', '(a) Earth', '(b) Jupiter', '(c) Uranus', '(d) Neptune', '']\n",
      "['7. The planet which is called twin sister of the Earth is', '(a) Mercury', '(b) Venus', '(c) Mars', '(d) Uranu']\n"
     ]
    }
   ],
   "source": [
    "li_q=[]\n",
    "li_a=[]\n",
    "for i in  range(7):\n",
    "    stq=s.find(str(i+1)+'.')\n",
    "    enq=s.find(str(i+2)+'.',stq)\n",
    "    m=s[stq:enq]\n",
    "    x=m.split('\\n')\n",
    "    print(x)\n",
    "    li_q.append(x)"
   ]
  },
  {
   "cell_type": "code",
   "execution_count": 71,
   "metadata": {},
   "outputs": [
    {
     "data": {
      "text/plain": [
       "[['1. The colour of the star is an indication of its',\n",
       "  '(a) Distance from the earth',\n",
       "  '(b) Distance from the sun',\n",
       "  '(c) Temperature',\n",
       "  '(d) Luminosity',\n",
       "  ''],\n",
       " ['2. The planet nearest to the sun is',\n",
       "  '(a) Mercury',\n",
       "  '(b) Earth',\n",
       "  '(c) Venus',\n",
       "  '(d) Pluto',\n",
       "  ''],\n",
       " ['3. The group of stars arranged in a definite pattern is called',\n",
       "  '(a) Milky way',\n",
       "  '(b) Constellation',\n",
       "  '(c) Andromeda',\n",
       "  '(d) Solar system',\n",
       "  ''],\n",
       " ['4. The Asteroid belt is found between which of the following?',\n",
       "  '(a) Earth and Mars',\n",
       "  '(b) Jupiter and Saturn',\n",
       "  '(c) Mars and Jupiter',\n",
       "  '(d) Saturn and Uranus',\n",
       "  ''],\n",
       " ['5. Which one of the following is the largest satellite in solar system?',\n",
       "  '(a) Ganymede',\n",
       "  '(b) Titan',\n",
       "  '(c) Europa',\n",
       "  '(d) Triton',\n",
       "  ''],\n",
       " ['6. Which planet takes the longest time to go around the sun?',\n",
       "  '(a) Earth',\n",
       "  '(b) Jupiter',\n",
       "  '(c) Uranus',\n",
       "  '(d) Neptune',\n",
       "  ''],\n",
       " ['7. The planet which is called twin sister of the Earth is',\n",
       "  '(a) Mercury',\n",
       "  '(b) Venus',\n",
       "  '(c) Mars',\n",
       "  '(d) Uranu']]"
      ]
     },
     "execution_count": 71,
     "metadata": {},
     "output_type": "execute_result"
    }
   ],
   "source": [
    "li_q"
   ]
  },
  {
   "cell_type": "markdown",
   "metadata": {},
   "source": [
    "### In the above output we can clearly see that the question  does not have answer with it\n",
    "   * like this we need to find the pattern manually and reframe the code as per our need \n",
    "   * finding year with question or answer also have same pattern and is explained in example below\n",
    "   "
   ]
  },
  {
   "cell_type": "markdown",
   "metadata": {},
   "source": [
    "# Example 3\n",
    "   * mcq question with answer "
   ]
  },
  {
   "cell_type": "code",
   "execution_count": 72,
   "metadata": {},
   "outputs": [],
   "source": [
    "f=open('ryd_assign3-1.txt',encoding=\"utf8\") #,\n",
    "\n",
    "instance=f.read()"
   ]
  },
  {
   "cell_type": "code",
   "execution_count": 73,
   "metadata": {},
   "outputs": [],
   "source": [
    "li_q=[]\n",
    "li_a=[]\n",
    "for i in  range(11):\n",
    "#----------------------------extracting question----------------------------#\n",
    "    stq=instance.find(str(i+1)+'.')\n",
    "    enq=instance.find('Answer',stq)\n",
    "    m=instance[stq:enq]\n",
    "    x=m.split('\\n')\n",
    "    #print(x)\n",
    "    li_q.append(x)\n",
    "#-----------------------------Extracting answer-----------------------------#\n",
    "    sta=instance.find(str(i+2)+'.',enq)\n",
    "    #print(i+1,instance[enq:sta])\n",
    "    an=instance[enq:sta]\n",
    "    x=an.split('\\n')\n",
    "    li_a.append(x)\n",
    "    "
   ]
  },
  {
   "cell_type": "code",
   "execution_count": 74,
   "metadata": {},
   "outputs": [
    {
     "data": {
      "text/plain": [
       "[['1. Magnesium ribbon is rubbed before burning because it has a coating of',\n",
       "  '(a) basic magnesium carbonate',\n",
       "  '(b) basic magnesium oxide',\n",
       "  '(c) basic magnesium sulphide',\n",
       "  '(d) basic magnesium chloride',\n",
       "  ''],\n",
       " ['2. Which of the following statements about the given reaction are correct?',\n",
       "  '3Fe (s) + 4H2O (g) → Fe3O4 (s) + 4 H2 (g)',\n",
       "  '(i) Iron metal is getting oxidised',\n",
       "  '(ii) Water is getting reduced',\n",
       "  '(iii) Water is acting as reducing agent',\n",
       "  '(iv) Water is acting as oxidising agent',\n",
       "  '(a) (i), (zi) and (iii)',\n",
       "  '(b) (in) and (iv)',\n",
       "  '(c) (i), (ii) and (iv)',\n",
       "  '(d) (ii) and (iv)',\n",
       "  ''],\n",
       " ['3. Which of the following are exothermic processes?',\n",
       "  '(i) Reaction of water with quick lime',\n",
       "  '(ii) Dilution of an acid',\n",
       "  '(iii) Evaporation of water',\n",
       "  '(iv) Sublimation of camphor (crystals)',\n",
       "  '(a) (i) and (ii)',\n",
       "  '(b) (ii) and (iii)',\n",
       "  '(c) (i) and (iv)',\n",
       "  '(d) (ii) and (iv)',\n",
       "  ''],\n",
       " ['4. Magnesium ribbon is rubbed before burning because it has a coating of',\n",
       "  '(a) basic magnesium carbonate',\n",
       "  '(b) basic magnesium oxide',\n",
       "  '(c) basic magnesium sulphide',\n",
       "  '(d) basic magnesium chloride',\n",
       "  ''],\n",
       " ['5. Which of the following statements about the given reaction are correct?',\n",
       "  '3Fe (s) + 4H2O (g) → Fe3O4 (s) + 4 H2 (g)',\n",
       "  '(i) Iron metal is getting oxidised',\n",
       "  '(ii) Water is getting reduced',\n",
       "  '(iii) Water is acting as reducing agent',\n",
       "  '(iv) Water is acting as oxidising agent',\n",
       "  '(a) (i), (zi) and (iii)',\n",
       "  '(b) (in) and (iv)',\n",
       "  '(c) (i), (ii) and (iv)',\n",
       "  '(d) (ii) and (iv)',\n",
       "  ''],\n",
       " ['6. Which of the following are exothermic processes?',\n",
       "  '(i) Reaction of water with quick lime',\n",
       "  '(ii) Dilution of an acid',\n",
       "  '(iii) Evaporation of water',\n",
       "  '(iv) Sublimation of camphor (crystals)',\n",
       "  '(a) (i) and (ii)',\n",
       "  '(b) (ii) and (iii)',\n",
       "  '(c) (i) and (iv)',\n",
       "  '(d) (ii) and (iv)',\n",
       "  ''],\n",
       " ['7. Oxidation is a process which involves',\n",
       "  '(a) addition of oxygen',\n",
       "  '(b) addition of hydrogen',\n",
       "  '(c) removal of oxygen',\n",
       "  '(d) removal of hydrogen',\n",
       "  ''],\n",
       " ['8. The process of reduction involves',\n",
       "  '(a) addition of oxygen',\n",
       "  '(b) addition of hydrogen',\n",
       "  '(c) removal of oxygen',\n",
       "  '(d) removal of hydrogen',\n",
       "  ''],\n",
       " ['9. Give the ratio in which hydrogen and oxygen are present in water by volume.',\n",
       "  '(a) 1:2',\n",
       "  '(b) 1:1',\n",
       "  '(c) 2:1',\n",
       "  '(d) 1:8',\n",
       "  ''],\n",
       " ['10. Which among the following statement(s) is (are) true?',\n",
       "  'Exposure of silver chloride to sunlight for a long duration turns grey due to',\n",
       "  '(i) the formation of silver by decomposition of silver chloride',\n",
       "  '(ii) sublimation of silver chloride',\n",
       "  '(iii decomposition of chlorine gas from silver chloride',\n",
       "  '(iv) oxidation of silver chloride',\n",
       "  '(a) (i) only',\n",
       "  '(b) (i) and (iii)',\n",
       "  '(c) (ii) and (iii)',\n",
       "  '(d) (iv) only',\n",
       "  ''],\n",
       " ['11. MnO2 + 4HCl → 2 + 2H2O + Cl2',\n",
       "  'Identify the substance oxidized in the above . equation.',\n",
       "  '(a) MnCl2',\n",
       "  '(b) HCl',\n",
       "  '(c) H2O',\n",
       "  '(d) MnO2',\n",
       "  '']]"
      ]
     },
     "execution_count": 74,
     "metadata": {},
     "output_type": "execute_result"
    }
   ],
   "source": [
    "li_q"
   ]
  },
  {
   "cell_type": "code",
   "execution_count": 77,
   "metadata": {},
   "outputs": [
    {
     "data": {
      "text/plain": [
       "[['Answer: a', ''],\n",
       " ['Answer: c', ''],\n",
       " ['Answer: a', ''],\n",
       " ['Answer: a', ''],\n",
       " ['Answer: c', ''],\n",
       " ['Answer: a', ''],\n",
       " ['Answer: a', ''],\n",
       " ['Answer: b', ''],\n",
       " ['Answer: a', ''],\n",
       " ['Answer: a', ''],\n",
       " ['Answer: d', '']]"
      ]
     },
     "execution_count": 77,
     "metadata": {},
     "output_type": "execute_result"
    }
   ],
   "source": [
    "li_a"
   ]
  },
  {
   "cell_type": "markdown",
   "metadata": {},
   "source": [
    "###  As we can see that for this type of question we got a pattern which is mentioned above\n",
    "  * for year we can take same approach in which we need to figure out the pattern of year and\n",
    "  * Via string slicing or Regular expression we can extract the same pattern"
   ]
  }
 ],
 "metadata": {
  "kernelspec": {
   "display_name": "Python 3",
   "language": "python",
   "name": "python3"
  },
  "language_info": {
   "codemirror_mode": {
    "name": "ipython",
    "version": 3
   },
   "file_extension": ".py",
   "mimetype": "text/x-python",
   "name": "python",
   "nbconvert_exporter": "python",
   "pygments_lexer": "ipython3",
   "version": "3.7.6"
  }
 },
 "nbformat": 4,
 "nbformat_minor": 4
}
